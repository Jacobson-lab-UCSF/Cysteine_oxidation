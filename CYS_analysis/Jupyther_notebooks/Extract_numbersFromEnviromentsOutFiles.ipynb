{
 "cells": [
  {
   "cell_type": "code",
   "execution_count": 1,
   "id": "9cbdf1f0",
   "metadata": {},
   "outputs": [],
   "source": [
    "import numpy as np"
   ]
  },
  {
   "cell_type": "code",
   "execution_count": 2,
   "id": "4a8ac315",
   "metadata": {},
   "outputs": [],
   "source": [
    "CYS_env = open('../examples_inputfiles/CYS_enviromentSG.txt', 'r').read()\n",
    "CSD_env = open('../examples_inputfiles/CSD_enviromentSG.txt', 'r').read()\n",
    "CSO_env = open('../examples_inputfiles/CSO_enviromentSG.txt', 'r').read()\n",
    "OCS_env = open('../examples_inputfiles/OCS_enviromentSG.txt', 'r').read()"
   ]
  },
  {
   "cell_type": "code",
   "execution_count": 3,
   "id": "a5e36386",
   "metadata": {},
   "outputs": [],
   "source": [
    "#### Printing out all the aminoacids in the list neigboring all the Cysteines \n",
    "AminoAcids = ['ALA','ARG','ASN','ASP','CYS','GLN','GLU','GLY','HIS','ILE','LEU','LYS','MET','PHE','PRO','SER','THR','TRP','TYR','VAL','HOH', 'CSD', 'CSO', 'OCS', 'CSX']\n",
    "\n",
    "text_file = open(\"../examples_inputfiles/ALL_SummarySG.txt\", \"w+\")\n",
    "text_file.write(f\"Res, CYS, CSD, CSO, OCS \\n\")\n",
    "\n",
    "for i in AminoAcids:\n",
    "    AminoAcids.count(i)\n",
    "    CYSnum=CYS_env.count(i)\n",
    "    CSDnum=CSD_env.count(i)\n",
    "    CSOnum=CSO_env.count(i)\n",
    "    OCSnum=OCS_env.count(i)\n",
    "    Var=(f\"{i}, {CYSnum}, {CSDnum}, {CSOnum}, {OCSnum} \\n\")\n",
    "    text_file.write(Var)\n",
    "text_file.close()"
   ]
  },
  {
   "cell_type": "code",
   "execution_count": 4,
   "id": "fbf7fdf8",
   "metadata": {},
   "outputs": [],
   "source": [
    "L=np.unique(CYS_env.split(', '))\n",
    "M=np.unique(CSD_env.split(', '))\n",
    "N=np.unique(CSO_env.split(', '))\n",
    "O=np.unique(OCS_env.split(', '))\n",
    "\n",
    "### example of all the residues/molecules found neighboring CYS\n",
    "text_file = open(\"../examples_inputfiles/CYS_SummarySG.txt\", \"w+\")\n",
    "text_file.write('CYS \\n')\n",
    "for i in L:\n",
    "    num=CYS_env.count(i)\n",
    "    var=(f\" {i} {num} \\n\")\n",
    "    text_file.write(var)\n",
    "text_file.close()\n"
   ]
  },
  {
   "cell_type": "code",
   "execution_count": null,
   "id": "9d923221",
   "metadata": {},
   "outputs": [],
   "source": []
  }
 ],
 "metadata": {
  "kernelspec": {
   "display_name": "mdaenv",
   "language": "python",
   "name": "mdaenv"
  },
  "language_info": {
   "codemirror_mode": {
    "name": "ipython",
    "version": 3
   },
   "file_extension": ".py",
   "mimetype": "text/x-python",
   "name": "python",
   "nbconvert_exporter": "python",
   "pygments_lexer": "ipython3",
   "version": "3.8.8"
  }
 },
 "nbformat": 4,
 "nbformat_minor": 5
}
